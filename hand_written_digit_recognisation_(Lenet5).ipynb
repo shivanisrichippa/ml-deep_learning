{
  "nbformat": 4,
  "nbformat_minor": 0,
  "metadata": {
    "colab": {
      "provenance": []
    },
    "kernelspec": {
      "name": "python3",
      "display_name": "Python 3"
    },
    "language_info": {
      "name": "python"
    }
  },
  "cells": [
    {
      "cell_type": "markdown",
      "source": [
        "IMPORTING LIBRARIES\n",
        "\n"
      ],
      "metadata": {
        "id": "PHiify_XOJgb"
      }
    },
    {
      "cell_type": "code",
      "execution_count": null,
      "metadata": {
        "id": "agOKF7LVLYDP"
      },
      "outputs": [],
      "source": [
        "import numpy as np\n",
        "import pandas as pd\n",
        "from tensorflow.keras import datasets\n"
      ]
    },
    {
      "cell_type": "markdown",
      "source": [
        "IMPORTING THE DATASETS\n"
      ],
      "metadata": {
        "id": "FJ8UifOzOSNY"
      }
    },
    {
      "cell_type": "code",
      "source": [
        "(x_train,y_train),(x_test,y_test)=datasets.mnist.load_data()"
      ],
      "metadata": {
        "id": "mlU3w6kuNjws"
      },
      "execution_count": null,
      "outputs": []
    },
    {
      "cell_type": "code",
      "source": [
        "y_train"
      ],
      "metadata": {
        "colab": {
          "base_uri": "https://localhost:8080/"
        },
        "id": "vZg30HsDOXD3",
        "outputId": "c911aa4a-7358-4256-ec17-ac940377154b"
      },
      "execution_count": null,
      "outputs": [
        {
          "output_type": "execute_result",
          "data": {
            "text/plain": [
              "array([5, 0, 4, ..., 5, 6, 8], dtype=uint8)"
            ]
          },
          "metadata": {},
          "execution_count": 168
        }
      ]
    },
    {
      "cell_type": "code",
      "source": [
        "x_train"
      ],
      "metadata": {
        "colab": {
          "base_uri": "https://localhost:8080/"
        },
        "id": "_SAJPG3iN9pQ",
        "outputId": "6e3c65fa-03ae-44bc-dcf5-b4f8423882df"
      },
      "execution_count": null,
      "outputs": [
        {
          "output_type": "execute_result",
          "data": {
            "text/plain": [
              "array([[[0, 0, 0, ..., 0, 0, 0],\n",
              "        [0, 0, 0, ..., 0, 0, 0],\n",
              "        [0, 0, 0, ..., 0, 0, 0],\n",
              "        ...,\n",
              "        [0, 0, 0, ..., 0, 0, 0],\n",
              "        [0, 0, 0, ..., 0, 0, 0],\n",
              "        [0, 0, 0, ..., 0, 0, 0]],\n",
              "\n",
              "       [[0, 0, 0, ..., 0, 0, 0],\n",
              "        [0, 0, 0, ..., 0, 0, 0],\n",
              "        [0, 0, 0, ..., 0, 0, 0],\n",
              "        ...,\n",
              "        [0, 0, 0, ..., 0, 0, 0],\n",
              "        [0, 0, 0, ..., 0, 0, 0],\n",
              "        [0, 0, 0, ..., 0, 0, 0]],\n",
              "\n",
              "       [[0, 0, 0, ..., 0, 0, 0],\n",
              "        [0, 0, 0, ..., 0, 0, 0],\n",
              "        [0, 0, 0, ..., 0, 0, 0],\n",
              "        ...,\n",
              "        [0, 0, 0, ..., 0, 0, 0],\n",
              "        [0, 0, 0, ..., 0, 0, 0],\n",
              "        [0, 0, 0, ..., 0, 0, 0]],\n",
              "\n",
              "       ...,\n",
              "\n",
              "       [[0, 0, 0, ..., 0, 0, 0],\n",
              "        [0, 0, 0, ..., 0, 0, 0],\n",
              "        [0, 0, 0, ..., 0, 0, 0],\n",
              "        ...,\n",
              "        [0, 0, 0, ..., 0, 0, 0],\n",
              "        [0, 0, 0, ..., 0, 0, 0],\n",
              "        [0, 0, 0, ..., 0, 0, 0]],\n",
              "\n",
              "       [[0, 0, 0, ..., 0, 0, 0],\n",
              "        [0, 0, 0, ..., 0, 0, 0],\n",
              "        [0, 0, 0, ..., 0, 0, 0],\n",
              "        ...,\n",
              "        [0, 0, 0, ..., 0, 0, 0],\n",
              "        [0, 0, 0, ..., 0, 0, 0],\n",
              "        [0, 0, 0, ..., 0, 0, 0]],\n",
              "\n",
              "       [[0, 0, 0, ..., 0, 0, 0],\n",
              "        [0, 0, 0, ..., 0, 0, 0],\n",
              "        [0, 0, 0, ..., 0, 0, 0],\n",
              "        ...,\n",
              "        [0, 0, 0, ..., 0, 0, 0],\n",
              "        [0, 0, 0, ..., 0, 0, 0],\n",
              "        [0, 0, 0, ..., 0, 0, 0]]], dtype=uint8)"
            ]
          },
          "metadata": {},
          "execution_count": 169
        }
      ]
    },
    {
      "cell_type": "code",
      "source": [
        "y_train.shape"
      ],
      "metadata": {
        "colab": {
          "base_uri": "https://localhost:8080/"
        },
        "id": "aHu3q22pOCro",
        "outputId": "1c042632-94c2-4225-f18e-49b802fa07d5"
      },
      "execution_count": null,
      "outputs": [
        {
          "output_type": "execute_result",
          "data": {
            "text/plain": [
              "(60000,)"
            ]
          },
          "metadata": {},
          "execution_count": 170
        }
      ]
    },
    {
      "cell_type": "code",
      "source": [
        "x_train.shape"
      ],
      "metadata": {
        "colab": {
          "base_uri": "https://localhost:8080/"
        },
        "id": "n3Hh2x3-Py6I",
        "outputId": "eacf9cb8-94b2-43f4-a530-880481c2acf8"
      },
      "execution_count": null,
      "outputs": [
        {
          "output_type": "execute_result",
          "data": {
            "text/plain": [
              "(60000, 28, 28)"
            ]
          },
          "metadata": {},
          "execution_count": 171
        }
      ]
    },
    {
      "cell_type": "code",
      "source": [
        "x_test.shape"
      ],
      "metadata": {
        "colab": {
          "base_uri": "https://localhost:8080/"
        },
        "id": "qHtFitAuP1Df",
        "outputId": "ec93f2e3-45be-4751-ffdb-61d930e0b14b"
      },
      "execution_count": null,
      "outputs": [
        {
          "output_type": "execute_result",
          "data": {
            "text/plain": [
              "(10000, 28, 28)"
            ]
          },
          "metadata": {},
          "execution_count": 172
        }
      ]
    },
    {
      "cell_type": "code",
      "source": [
        "y_test.shape"
      ],
      "metadata": {
        "colab": {
          "base_uri": "https://localhost:8080/"
        },
        "id": "p72gTHT_P87f",
        "outputId": "8b7cc669-7231-4ff8-96a1-b8822dfcb2af"
      },
      "execution_count": null,
      "outputs": [
        {
          "output_type": "execute_result",
          "data": {
            "text/plain": [
              "(10000,)"
            ]
          },
          "metadata": {},
          "execution_count": 173
        }
      ]
    },
    {
      "cell_type": "code",
      "source": [
        "#the neural network only accepts the 3*3 matrix so converting the data into the (28,28,1) form\n",
        "width,height=28,28\n",
        "input_shape=(width,height,1)\n",
        "input_shape\n"
      ],
      "metadata": {
        "colab": {
          "base_uri": "https://localhost:8080/"
        },
        "id": "gIhZ9EE6QATX",
        "outputId": "86f7444e-498f-44ce-9176-5d2b629b8caf"
      },
      "execution_count": null,
      "outputs": [
        {
          "output_type": "execute_result",
          "data": {
            "text/plain": [
              "(28, 28, 1)"
            ]
          },
          "metadata": {},
          "execution_count": 174
        }
      ]
    },
    {
      "cell_type": "code",
      "source": [
        "x_train=x_train.reshape(x_train.shape[0],28,28,1)\n",
        "x_test=x_test.reshape(x_test.shape[0],28,28,1)"
      ],
      "metadata": {
        "id": "femuXrcOUb-F"
      },
      "execution_count": null,
      "outputs": []
    },
    {
      "cell_type": "code",
      "source": [
        "x_test\n",
        "x_train"
      ],
      "metadata": {
        "colab": {
          "base_uri": "https://localhost:8080/"
        },
        "id": "3OAb-ziXUxWJ",
        "outputId": "f4afce7b-0738-42a3-e766-fd1f3d7991b1"
      },
      "execution_count": null,
      "outputs": [
        {
          "output_type": "execute_result",
          "data": {
            "text/plain": [
              "array([[[[0],\n",
              "         [0],\n",
              "         [0],\n",
              "         ...,\n",
              "         [0],\n",
              "         [0],\n",
              "         [0]],\n",
              "\n",
              "        [[0],\n",
              "         [0],\n",
              "         [0],\n",
              "         ...,\n",
              "         [0],\n",
              "         [0],\n",
              "         [0]],\n",
              "\n",
              "        [[0],\n",
              "         [0],\n",
              "         [0],\n",
              "         ...,\n",
              "         [0],\n",
              "         [0],\n",
              "         [0]],\n",
              "\n",
              "        ...,\n",
              "\n",
              "        [[0],\n",
              "         [0],\n",
              "         [0],\n",
              "         ...,\n",
              "         [0],\n",
              "         [0],\n",
              "         [0]],\n",
              "\n",
              "        [[0],\n",
              "         [0],\n",
              "         [0],\n",
              "         ...,\n",
              "         [0],\n",
              "         [0],\n",
              "         [0]],\n",
              "\n",
              "        [[0],\n",
              "         [0],\n",
              "         [0],\n",
              "         ...,\n",
              "         [0],\n",
              "         [0],\n",
              "         [0]]],\n",
              "\n",
              "\n",
              "       [[[0],\n",
              "         [0],\n",
              "         [0],\n",
              "         ...,\n",
              "         [0],\n",
              "         [0],\n",
              "         [0]],\n",
              "\n",
              "        [[0],\n",
              "         [0],\n",
              "         [0],\n",
              "         ...,\n",
              "         [0],\n",
              "         [0],\n",
              "         [0]],\n",
              "\n",
              "        [[0],\n",
              "         [0],\n",
              "         [0],\n",
              "         ...,\n",
              "         [0],\n",
              "         [0],\n",
              "         [0]],\n",
              "\n",
              "        ...,\n",
              "\n",
              "        [[0],\n",
              "         [0],\n",
              "         [0],\n",
              "         ...,\n",
              "         [0],\n",
              "         [0],\n",
              "         [0]],\n",
              "\n",
              "        [[0],\n",
              "         [0],\n",
              "         [0],\n",
              "         ...,\n",
              "         [0],\n",
              "         [0],\n",
              "         [0]],\n",
              "\n",
              "        [[0],\n",
              "         [0],\n",
              "         [0],\n",
              "         ...,\n",
              "         [0],\n",
              "         [0],\n",
              "         [0]]],\n",
              "\n",
              "\n",
              "       [[[0],\n",
              "         [0],\n",
              "         [0],\n",
              "         ...,\n",
              "         [0],\n",
              "         [0],\n",
              "         [0]],\n",
              "\n",
              "        [[0],\n",
              "         [0],\n",
              "         [0],\n",
              "         ...,\n",
              "         [0],\n",
              "         [0],\n",
              "         [0]],\n",
              "\n",
              "        [[0],\n",
              "         [0],\n",
              "         [0],\n",
              "         ...,\n",
              "         [0],\n",
              "         [0],\n",
              "         [0]],\n",
              "\n",
              "        ...,\n",
              "\n",
              "        [[0],\n",
              "         [0],\n",
              "         [0],\n",
              "         ...,\n",
              "         [0],\n",
              "         [0],\n",
              "         [0]],\n",
              "\n",
              "        [[0],\n",
              "         [0],\n",
              "         [0],\n",
              "         ...,\n",
              "         [0],\n",
              "         [0],\n",
              "         [0]],\n",
              "\n",
              "        [[0],\n",
              "         [0],\n",
              "         [0],\n",
              "         ...,\n",
              "         [0],\n",
              "         [0],\n",
              "         [0]]],\n",
              "\n",
              "\n",
              "       ...,\n",
              "\n",
              "\n",
              "       [[[0],\n",
              "         [0],\n",
              "         [0],\n",
              "         ...,\n",
              "         [0],\n",
              "         [0],\n",
              "         [0]],\n",
              "\n",
              "        [[0],\n",
              "         [0],\n",
              "         [0],\n",
              "         ...,\n",
              "         [0],\n",
              "         [0],\n",
              "         [0]],\n",
              "\n",
              "        [[0],\n",
              "         [0],\n",
              "         [0],\n",
              "         ...,\n",
              "         [0],\n",
              "         [0],\n",
              "         [0]],\n",
              "\n",
              "        ...,\n",
              "\n",
              "        [[0],\n",
              "         [0],\n",
              "         [0],\n",
              "         ...,\n",
              "         [0],\n",
              "         [0],\n",
              "         [0]],\n",
              "\n",
              "        [[0],\n",
              "         [0],\n",
              "         [0],\n",
              "         ...,\n",
              "         [0],\n",
              "         [0],\n",
              "         [0]],\n",
              "\n",
              "        [[0],\n",
              "         [0],\n",
              "         [0],\n",
              "         ...,\n",
              "         [0],\n",
              "         [0],\n",
              "         [0]]],\n",
              "\n",
              "\n",
              "       [[[0],\n",
              "         [0],\n",
              "         [0],\n",
              "         ...,\n",
              "         [0],\n",
              "         [0],\n",
              "         [0]],\n",
              "\n",
              "        [[0],\n",
              "         [0],\n",
              "         [0],\n",
              "         ...,\n",
              "         [0],\n",
              "         [0],\n",
              "         [0]],\n",
              "\n",
              "        [[0],\n",
              "         [0],\n",
              "         [0],\n",
              "         ...,\n",
              "         [0],\n",
              "         [0],\n",
              "         [0]],\n",
              "\n",
              "        ...,\n",
              "\n",
              "        [[0],\n",
              "         [0],\n",
              "         [0],\n",
              "         ...,\n",
              "         [0],\n",
              "         [0],\n",
              "         [0]],\n",
              "\n",
              "        [[0],\n",
              "         [0],\n",
              "         [0],\n",
              "         ...,\n",
              "         [0],\n",
              "         [0],\n",
              "         [0]],\n",
              "\n",
              "        [[0],\n",
              "         [0],\n",
              "         [0],\n",
              "         ...,\n",
              "         [0],\n",
              "         [0],\n",
              "         [0]]],\n",
              "\n",
              "\n",
              "       [[[0],\n",
              "         [0],\n",
              "         [0],\n",
              "         ...,\n",
              "         [0],\n",
              "         [0],\n",
              "         [0]],\n",
              "\n",
              "        [[0],\n",
              "         [0],\n",
              "         [0],\n",
              "         ...,\n",
              "         [0],\n",
              "         [0],\n",
              "         [0]],\n",
              "\n",
              "        [[0],\n",
              "         [0],\n",
              "         [0],\n",
              "         ...,\n",
              "         [0],\n",
              "         [0],\n",
              "         [0]],\n",
              "\n",
              "        ...,\n",
              "\n",
              "        [[0],\n",
              "         [0],\n",
              "         [0],\n",
              "         ...,\n",
              "         [0],\n",
              "         [0],\n",
              "         [0]],\n",
              "\n",
              "        [[0],\n",
              "         [0],\n",
              "         [0],\n",
              "         ...,\n",
              "         [0],\n",
              "         [0],\n",
              "         [0]],\n",
              "\n",
              "        [[0],\n",
              "         [0],\n",
              "         [0],\n",
              "         ...,\n",
              "         [0],\n",
              "         [0],\n",
              "         [0]]]], dtype=uint8)"
            ]
          },
          "metadata": {},
          "execution_count": 176
        }
      ]
    },
    {
      "cell_type": "code",
      "source": [
        "x_train.shape"
      ],
      "metadata": {
        "colab": {
          "base_uri": "https://localhost:8080/"
        },
        "id": "b8GEOfELUzDn",
        "outputId": "165f3891-8ab4-4b1b-bcff-21188fe2818d"
      },
      "execution_count": null,
      "outputs": [
        {
          "output_type": "execute_result",
          "data": {
            "text/plain": [
              "(60000, 28, 28, 1)"
            ]
          },
          "metadata": {},
          "execution_count": 177
        }
      ]
    },
    {
      "cell_type": "code",
      "source": [
        "y_train.shape"
      ],
      "metadata": {
        "colab": {
          "base_uri": "https://localhost:8080/"
        },
        "id": "r5M9Uw_ZVGrn",
        "outputId": "ea8b7245-7cd5-4e92-ae1d-df9a9b4229f7"
      },
      "execution_count": null,
      "outputs": [
        {
          "output_type": "execute_result",
          "data": {
            "text/plain": [
              "(60000,)"
            ]
          },
          "metadata": {},
          "execution_count": 178
        }
      ]
    },
    {
      "cell_type": "code",
      "source": [
        "#for evulation purpose importing the another evulate data\n",
        "from sklearn.model_selection import train_test_split\n",
        "x_train,x_val,y_train,y_val=train_test_split(x_train,y_train,test_size=0.1)"
      ],
      "metadata": {
        "id": "J0rAFtvAVPwc"
      },
      "execution_count": null,
      "outputs": []
    },
    {
      "cell_type": "code",
      "source": [
        "len(x_train)"
      ],
      "metadata": {
        "colab": {
          "base_uri": "https://localhost:8080/"
        },
        "id": "dPG-tpwqV9KQ",
        "outputId": "9883cf10-3a0e-437b-9558-70f31ff42b00"
      },
      "execution_count": null,
      "outputs": [
        {
          "output_type": "execute_result",
          "data": {
            "text/plain": [
              "54000"
            ]
          },
          "metadata": {},
          "execution_count": 180
        }
      ]
    },
    {
      "cell_type": "code",
      "source": [
        "len(x_val)"
      ],
      "metadata": {
        "colab": {
          "base_uri": "https://localhost:8080/"
        },
        "id": "jauDz-SLWCAi",
        "outputId": "95d85fe1-2e0d-4490-876f-4663c90df669"
      },
      "execution_count": null,
      "outputs": [
        {
          "output_type": "execute_result",
          "data": {
            "text/plain": [
              "6000"
            ]
          },
          "metadata": {},
          "execution_count": 181
        }
      ]
    },
    {
      "cell_type": "code",
      "source": [
        "y_val.shape"
      ],
      "metadata": {
        "colab": {
          "base_uri": "https://localhost:8080/"
        },
        "id": "f8qWN6J14jul",
        "outputId": "66eed199-a8dc-484a-adc1-a3058ead9944"
      },
      "execution_count": null,
      "outputs": [
        {
          "output_type": "execute_result",
          "data": {
            "text/plain": [
              "(6000,)"
            ]
          },
          "metadata": {},
          "execution_count": 182
        }
      ]
    },
    {
      "cell_type": "code",
      "source": [
        "#normalizing the data,by feature scaling the data by standadising\n",
        "x_train=(x_train-x_train.mean())/x_train.std()\n",
        "x_val=(x_val-x_train.mean())/x_val.std()\n",
        "x_test=(x_test-x_test.mean())/x_test.std()"
      ],
      "metadata": {
        "id": "evO14BIYWJWT"
      },
      "execution_count": null,
      "outputs": []
    },
    {
      "cell_type": "code",
      "source": [
        "x_train"
      ],
      "metadata": {
        "colab": {
          "base_uri": "https://localhost:8080/"
        },
        "id": "CDAN7tjRXVZE",
        "outputId": "edd3223c-7a51-4758-c80b-ad320574baa4"
      },
      "execution_count": null,
      "outputs": [
        {
          "output_type": "execute_result",
          "data": {
            "text/plain": [
              "array([[[[-0.42408199],\n",
              "         [-0.42408199],\n",
              "         [-0.42408199],\n",
              "         ...,\n",
              "         [-0.42408199],\n",
              "         [-0.42408199],\n",
              "         [-0.42408199]],\n",
              "\n",
              "        [[-0.42408199],\n",
              "         [-0.42408199],\n",
              "         [-0.42408199],\n",
              "         ...,\n",
              "         [-0.42408199],\n",
              "         [-0.42408199],\n",
              "         [-0.42408199]],\n",
              "\n",
              "        [[-0.42408199],\n",
              "         [-0.42408199],\n",
              "         [-0.42408199],\n",
              "         ...,\n",
              "         [-0.42408199],\n",
              "         [-0.42408199],\n",
              "         [-0.42408199]],\n",
              "\n",
              "        ...,\n",
              "\n",
              "        [[-0.42408199],\n",
              "         [-0.42408199],\n",
              "         [-0.42408199],\n",
              "         ...,\n",
              "         [-0.42408199],\n",
              "         [-0.42408199],\n",
              "         [-0.42408199]],\n",
              "\n",
              "        [[-0.42408199],\n",
              "         [-0.42408199],\n",
              "         [-0.42408199],\n",
              "         ...,\n",
              "         [-0.42408199],\n",
              "         [-0.42408199],\n",
              "         [-0.42408199]],\n",
              "\n",
              "        [[-0.42408199],\n",
              "         [-0.42408199],\n",
              "         [-0.42408199],\n",
              "         ...,\n",
              "         [-0.42408199],\n",
              "         [-0.42408199],\n",
              "         [-0.42408199]]],\n",
              "\n",
              "\n",
              "       [[[-0.42408199],\n",
              "         [-0.42408199],\n",
              "         [-0.42408199],\n",
              "         ...,\n",
              "         [-0.42408199],\n",
              "         [-0.42408199],\n",
              "         [-0.42408199]],\n",
              "\n",
              "        [[-0.42408199],\n",
              "         [-0.42408199],\n",
              "         [-0.42408199],\n",
              "         ...,\n",
              "         [-0.42408199],\n",
              "         [-0.42408199],\n",
              "         [-0.42408199]],\n",
              "\n",
              "        [[-0.42408199],\n",
              "         [-0.42408199],\n",
              "         [-0.42408199],\n",
              "         ...,\n",
              "         [-0.42408199],\n",
              "         [-0.42408199],\n",
              "         [-0.42408199]],\n",
              "\n",
              "        ...,\n",
              "\n",
              "        [[-0.42408199],\n",
              "         [-0.42408199],\n",
              "         [-0.42408199],\n",
              "         ...,\n",
              "         [-0.42408199],\n",
              "         [-0.42408199],\n",
              "         [-0.42408199]],\n",
              "\n",
              "        [[-0.42408199],\n",
              "         [-0.42408199],\n",
              "         [-0.42408199],\n",
              "         ...,\n",
              "         [-0.42408199],\n",
              "         [-0.42408199],\n",
              "         [-0.42408199]],\n",
              "\n",
              "        [[-0.42408199],\n",
              "         [-0.42408199],\n",
              "         [-0.42408199],\n",
              "         ...,\n",
              "         [-0.42408199],\n",
              "         [-0.42408199],\n",
              "         [-0.42408199]]],\n",
              "\n",
              "\n",
              "       [[[-0.42408199],\n",
              "         [-0.42408199],\n",
              "         [-0.42408199],\n",
              "         ...,\n",
              "         [-0.42408199],\n",
              "         [-0.42408199],\n",
              "         [-0.42408199]],\n",
              "\n",
              "        [[-0.42408199],\n",
              "         [-0.42408199],\n",
              "         [-0.42408199],\n",
              "         ...,\n",
              "         [-0.42408199],\n",
              "         [-0.42408199],\n",
              "         [-0.42408199]],\n",
              "\n",
              "        [[-0.42408199],\n",
              "         [-0.42408199],\n",
              "         [-0.42408199],\n",
              "         ...,\n",
              "         [-0.42408199],\n",
              "         [-0.42408199],\n",
              "         [-0.42408199]],\n",
              "\n",
              "        ...,\n",
              "\n",
              "        [[-0.42408199],\n",
              "         [-0.42408199],\n",
              "         [-0.42408199],\n",
              "         ...,\n",
              "         [-0.42408199],\n",
              "         [-0.42408199],\n",
              "         [-0.42408199]],\n",
              "\n",
              "        [[-0.42408199],\n",
              "         [-0.42408199],\n",
              "         [-0.42408199],\n",
              "         ...,\n",
              "         [-0.42408199],\n",
              "         [-0.42408199],\n",
              "         [-0.42408199]],\n",
              "\n",
              "        [[-0.42408199],\n",
              "         [-0.42408199],\n",
              "         [-0.42408199],\n",
              "         ...,\n",
              "         [-0.42408199],\n",
              "         [-0.42408199],\n",
              "         [-0.42408199]]],\n",
              "\n",
              "\n",
              "       ...,\n",
              "\n",
              "\n",
              "       [[[-0.42408199],\n",
              "         [-0.42408199],\n",
              "         [-0.42408199],\n",
              "         ...,\n",
              "         [-0.42408199],\n",
              "         [-0.42408199],\n",
              "         [-0.42408199]],\n",
              "\n",
              "        [[-0.42408199],\n",
              "         [-0.42408199],\n",
              "         [-0.42408199],\n",
              "         ...,\n",
              "         [-0.42408199],\n",
              "         [-0.42408199],\n",
              "         [-0.42408199]],\n",
              "\n",
              "        [[-0.42408199],\n",
              "         [-0.42408199],\n",
              "         [-0.42408199],\n",
              "         ...,\n",
              "         [-0.42408199],\n",
              "         [-0.42408199],\n",
              "         [-0.42408199]],\n",
              "\n",
              "        ...,\n",
              "\n",
              "        [[-0.42408199],\n",
              "         [-0.42408199],\n",
              "         [-0.42408199],\n",
              "         ...,\n",
              "         [-0.42408199],\n",
              "         [-0.42408199],\n",
              "         [-0.42408199]],\n",
              "\n",
              "        [[-0.42408199],\n",
              "         [-0.42408199],\n",
              "         [-0.42408199],\n",
              "         ...,\n",
              "         [-0.42408199],\n",
              "         [-0.42408199],\n",
              "         [-0.42408199]],\n",
              "\n",
              "        [[-0.42408199],\n",
              "         [-0.42408199],\n",
              "         [-0.42408199],\n",
              "         ...,\n",
              "         [-0.42408199],\n",
              "         [-0.42408199],\n",
              "         [-0.42408199]]],\n",
              "\n",
              "\n",
              "       [[[-0.42408199],\n",
              "         [-0.42408199],\n",
              "         [-0.42408199],\n",
              "         ...,\n",
              "         [-0.42408199],\n",
              "         [-0.42408199],\n",
              "         [-0.42408199]],\n",
              "\n",
              "        [[-0.42408199],\n",
              "         [-0.42408199],\n",
              "         [-0.42408199],\n",
              "         ...,\n",
              "         [-0.42408199],\n",
              "         [-0.42408199],\n",
              "         [-0.42408199]],\n",
              "\n",
              "        [[-0.42408199],\n",
              "         [-0.42408199],\n",
              "         [-0.42408199],\n",
              "         ...,\n",
              "         [-0.42408199],\n",
              "         [-0.42408199],\n",
              "         [-0.42408199]],\n",
              "\n",
              "        ...,\n",
              "\n",
              "        [[-0.42408199],\n",
              "         [-0.42408199],\n",
              "         [-0.42408199],\n",
              "         ...,\n",
              "         [-0.42408199],\n",
              "         [-0.42408199],\n",
              "         [-0.42408199]],\n",
              "\n",
              "        [[-0.42408199],\n",
              "         [-0.42408199],\n",
              "         [-0.42408199],\n",
              "         ...,\n",
              "         [-0.42408199],\n",
              "         [-0.42408199],\n",
              "         [-0.42408199]],\n",
              "\n",
              "        [[-0.42408199],\n",
              "         [-0.42408199],\n",
              "         [-0.42408199],\n",
              "         ...,\n",
              "         [-0.42408199],\n",
              "         [-0.42408199],\n",
              "         [-0.42408199]]],\n",
              "\n",
              "\n",
              "       [[[-0.42408199],\n",
              "         [-0.42408199],\n",
              "         [-0.42408199],\n",
              "         ...,\n",
              "         [-0.42408199],\n",
              "         [-0.42408199],\n",
              "         [-0.42408199]],\n",
              "\n",
              "        [[-0.42408199],\n",
              "         [-0.42408199],\n",
              "         [-0.42408199],\n",
              "         ...,\n",
              "         [-0.42408199],\n",
              "         [-0.42408199],\n",
              "         [-0.42408199]],\n",
              "\n",
              "        [[-0.42408199],\n",
              "         [-0.42408199],\n",
              "         [-0.42408199],\n",
              "         ...,\n",
              "         [-0.42408199],\n",
              "         [-0.42408199],\n",
              "         [-0.42408199]],\n",
              "\n",
              "        ...,\n",
              "\n",
              "        [[-0.42408199],\n",
              "         [-0.42408199],\n",
              "         [-0.42408199],\n",
              "         ...,\n",
              "         [-0.42408199],\n",
              "         [-0.42408199],\n",
              "         [-0.42408199]],\n",
              "\n",
              "        [[-0.42408199],\n",
              "         [-0.42408199],\n",
              "         [-0.42408199],\n",
              "         ...,\n",
              "         [-0.42408199],\n",
              "         [-0.42408199],\n",
              "         [-0.42408199]],\n",
              "\n",
              "        [[-0.42408199],\n",
              "         [-0.42408199],\n",
              "         [-0.42408199],\n",
              "         ...,\n",
              "         [-0.42408199],\n",
              "         [-0.42408199],\n",
              "         [-0.42408199]]]])"
            ]
          },
          "metadata": {},
          "execution_count": 184
        }
      ]
    },
    {
      "cell_type": "code",
      "source": [
        "#encoding the catgorical values of y_test and y_val\n",
        "y_train"
      ],
      "metadata": {
        "colab": {
          "base_uri": "https://localhost:8080/"
        },
        "id": "_yDrmzFEXWnD",
        "outputId": "cdcbe8c4-aeb7-48fc-ccff-ae6c9a5aadaf"
      },
      "execution_count": null,
      "outputs": [
        {
          "output_type": "execute_result",
          "data": {
            "text/plain": [
              "array([1, 3, 9, ..., 5, 9, 6], dtype=uint8)"
            ]
          },
          "metadata": {},
          "execution_count": 185
        }
      ]
    },
    {
      "cell_type": "code",
      "source": [
        "num_labels=10\n",
        "from tensorflow import keras\n"
      ],
      "metadata": {
        "id": "n9OfCTPLXuSP"
      },
      "execution_count": null,
      "outputs": []
    },
    {
      "cell_type": "code",
      "source": [
        "y_train=keras.utils.to_categorical(y_train)"
      ],
      "metadata": {
        "id": "9AFqrFIlxrs8"
      },
      "execution_count": null,
      "outputs": []
    },
    {
      "cell_type": "code",
      "source": [
        "y_train"
      ],
      "metadata": {
        "colab": {
          "base_uri": "https://localhost:8080/"
        },
        "id": "Ef9AQYbOYIpr",
        "outputId": "ec9d5b2b-d231-4f0d-bdad-c92ca4f0a047"
      },
      "execution_count": null,
      "outputs": [
        {
          "output_type": "execute_result",
          "data": {
            "text/plain": [
              "array([[0., 1., 0., ..., 0., 0., 0.],\n",
              "       [0., 0., 0., ..., 0., 0., 0.],\n",
              "       [0., 0., 0., ..., 0., 0., 1.],\n",
              "       ...,\n",
              "       [0., 0., 0., ..., 0., 0., 0.],\n",
              "       [0., 0., 0., ..., 0., 0., 1.],\n",
              "       [0., 0., 0., ..., 0., 0., 0.]], dtype=float32)"
            ]
          },
          "metadata": {},
          "execution_count": 188
        }
      ]
    },
    {
      "cell_type": "markdown",
      "source": [
        "MODEL"
      ],
      "metadata": {
        "id": "HX1joZC-YlFt"
      }
    },
    {
      "cell_type": "code",
      "source": [
        "#bulding a model lenet5 model a 5 layered model\n",
        "from tensorflow.keras.models import Sequential\n",
        "from tensorflow.keras.layers import Dense,AveragePooling2D,Dropout,Flatten,Input,Conv2D,MaxPooling2D"
      ],
      "metadata": {
        "id": "SwAK1W9lYYbj"
      },
      "execution_count": null,
      "outputs": []
    },
    {
      "cell_type": "code",
      "source": [
        "model=Sequential()\n",
        "model.add(Conv2D(6,kernel_size=(5,5),strides=(1,1),activation='tanh',input_shape=(28,28,1)))\n",
        "model.add(AveragePooling2D(pool_size=(2,2),strides=(1,1)))\n",
        "model.add(Conv2D(16,kernel_size=(5,5),strides=(1,1),activation='tanh'))\n",
        "model.add(AveragePooling2D(pool_size=(2,2),strides=(2,2)))\n",
        "model.add(Conv2D(120,kernel_size=(5,5),strides=(1,1),activation='tanh'))\n",
        "model.add(Flatten())\n",
        "model.add(Dense(84,activation='tanh'))\n",
        "model.add(Dense(num_labels,activation='Softmax'))"
      ],
      "metadata": {
        "id": "eaO-8dMnYezB"
      },
      "execution_count": null,
      "outputs": []
    },
    {
      "cell_type": "code",
      "source": [
        "model.summary()"
      ],
      "metadata": {
        "colab": {
          "base_uri": "https://localhost:8080/"
        },
        "id": "ks-vma8kdjkl",
        "outputId": "69856dbf-ae7b-4868-e331-1ad2aa7bea69"
      },
      "execution_count": null,
      "outputs": [
        {
          "output_type": "stream",
          "name": "stdout",
          "text": [
            "Model: \"sequential_8\"\n",
            "_________________________________________________________________\n",
            " Layer (type)                Output Shape              Param #   \n",
            "=================================================================\n",
            " conv2d_15 (Conv2D)          (None, 24, 24, 6)         156       \n",
            "                                                                 \n",
            " average_pooling2d_10 (Aver  (None, 23, 23, 6)         0         \n",
            " agePooling2D)                                                   \n",
            "                                                                 \n",
            " conv2d_16 (Conv2D)          (None, 19, 19, 16)        2416      \n",
            "                                                                 \n",
            " average_pooling2d_11 (Aver  (None, 9, 9, 16)          0         \n",
            " agePooling2D)                                                   \n",
            "                                                                 \n",
            " conv2d_17 (Conv2D)          (None, 5, 5, 120)         48120     \n",
            "                                                                 \n",
            " flatten_5 (Flatten)         (None, 3000)              0         \n",
            "                                                                 \n",
            " dense_9 (Dense)             (None, 84)                252084    \n",
            "                                                                 \n",
            " dense_10 (Dense)            (None, 10)                850       \n",
            "                                                                 \n",
            "=================================================================\n",
            "Total params: 303626 (1.16 MB)\n",
            "Trainable params: 303626 (1.16 MB)\n",
            "Non-trainable params: 0 (0.00 Byte)\n",
            "_________________________________________________________________\n"
          ]
        }
      ]
    },
    {
      "cell_type": "code",
      "source": [
        "#compiling the model\n",
        "model.compile(loss=keras.losses.categorical_crossentropy,optimizer='adam',metrics=['accuracy'])\n",
        "\n"
      ],
      "metadata": {
        "id": "PtF4ZrRCex6Q"
      },
      "execution_count": null,
      "outputs": []
    },
    {
      "cell_type": "code",
      "source": [
        "y_train"
      ],
      "metadata": {
        "colab": {
          "base_uri": "https://localhost:8080/"
        },
        "id": "f2hVh2QOwVKm",
        "outputId": "5cb10aff-fae3-4fa8-927b-5834a4b36a6b"
      },
      "execution_count": null,
      "outputs": [
        {
          "output_type": "execute_result",
          "data": {
            "text/plain": [
              "array([[0., 1., 0., ..., 0., 0., 0.],\n",
              "       [0., 0., 0., ..., 0., 0., 0.],\n",
              "       [0., 0., 0., ..., 0., 0., 1.],\n",
              "       ...,\n",
              "       [0., 0., 0., ..., 0., 0., 0.],\n",
              "       [0., 0., 0., ..., 0., 0., 1.],\n",
              "       [0., 0., 0., ..., 0., 0., 0.]], dtype=float32)"
            ]
          },
          "metadata": {},
          "execution_count": 193
        }
      ]
    },
    {
      "cell_type": "code",
      "source": [
        "y_val=keras.utils.to_categorical(y_val)"
      ],
      "metadata": {
        "id": "XE25CNs84Ana"
      },
      "execution_count": null,
      "outputs": []
    },
    {
      "cell_type": "code",
      "source": [
        "y_val"
      ],
      "metadata": {
        "colab": {
          "base_uri": "https://localhost:8080/"
        },
        "id": "65YbBMCU4OCP",
        "outputId": "5e42f7b4-f185-4006-f376-f4c4d60e9b26"
      },
      "execution_count": null,
      "outputs": [
        {
          "output_type": "execute_result",
          "data": {
            "text/plain": [
              "array([[0., 0., 0., ..., 0., 0., 0.],\n",
              "       [0., 0., 0., ..., 0., 0., 0.],\n",
              "       [0., 0., 0., ..., 0., 1., 0.],\n",
              "       ...,\n",
              "       [0., 0., 0., ..., 0., 0., 1.],\n",
              "       [0., 0., 0., ..., 0., 0., 0.],\n",
              "       [0., 0., 1., ..., 0., 0., 0.]], dtype=float32)"
            ]
          },
          "metadata": {},
          "execution_count": 195
        }
      ]
    },
    {
      "cell_type": "code",
      "source": [
        "history=model.fit(x_train,y_train,batch_size=32,epochs=5,verbose=1,validation_data=(x_val,y_val))"
      ],
      "metadata": {
        "colab": {
          "base_uri": "https://localhost:8080/"
        },
        "id": "DQq4cW43gRy8",
        "outputId": "48ebf817-dd7f-4479-b030-16c9092bd9ed"
      },
      "execution_count": null,
      "outputs": [
        {
          "output_type": "stream",
          "name": "stdout",
          "text": [
            "Epoch 1/5\n",
            "1688/1688 [==============================] - 67s 39ms/step - loss: 0.0613 - accuracy: 0.9811 - val_loss: 0.5118 - val_accuracy: 0.8298\n",
            "Epoch 2/5\n",
            "1688/1688 [==============================] - 69s 41ms/step - loss: 0.0580 - accuracy: 0.9821 - val_loss: 0.3289 - val_accuracy: 0.8927\n",
            "Epoch 3/5\n",
            "1688/1688 [==============================] - 71s 42ms/step - loss: 0.0537 - accuracy: 0.9833 - val_loss: 0.3574 - val_accuracy: 0.8835\n",
            "Epoch 4/5\n",
            "1688/1688 [==============================] - 62s 37ms/step - loss: 0.0537 - accuracy: 0.9836 - val_loss: 0.6785 - val_accuracy: 0.8115\n",
            "Epoch 5/5\n",
            "1688/1688 [==============================] - 65s 38ms/step - loss: 0.0509 - accuracy: 0.9844 - val_loss: 0.3662 - val_accuracy: 0.8772\n"
          ]
        }
      ]
    },
    {
      "cell_type": "code",
      "source": [
        "y_test=keras.utils.to_categorical(y_test)"
      ],
      "metadata": {
        "id": "RCkRYEkg7ecA"
      },
      "execution_count": null,
      "outputs": []
    },
    {
      "cell_type": "code",
      "source": [
        "score=model.evaluate(x_test,y_test,verbose=1)"
      ],
      "metadata": {
        "colab": {
          "base_uri": "https://localhost:8080/"
        },
        "id": "SEZ-0jN06lpX",
        "outputId": "0e26ec5c-1529-49af-e2f9-d958efc4537d"
      },
      "execution_count": null,
      "outputs": [
        {
          "output_type": "stream",
          "name": "stdout",
          "text": [
            "313/313 [==============================] - 4s 11ms/step - loss: 0.0529 - accuracy: 0.9843\n"
          ]
        }
      ]
    },
    {
      "cell_type": "code",
      "source": [
        "score"
      ],
      "metadata": {
        "colab": {
          "base_uri": "https://localhost:8080/"
        },
        "id": "QjXUiRNoguAZ",
        "outputId": "e99b2580-e9dd-4e4f-e69a-16215876f1c3"
      },
      "execution_count": null,
      "outputs": [
        {
          "output_type": "execute_result",
          "data": {
            "text/plain": [
              "[0.052874669432640076, 0.9843000173568726]"
            ]
          },
          "metadata": {},
          "execution_count": 200
        }
      ]
    },
    {
      "cell_type": "markdown",
      "source": [
        "accuracy of 98.4 percent"
      ],
      "metadata": {
        "id": "E0Yqgduo71oi"
      }
    }
  ]
}